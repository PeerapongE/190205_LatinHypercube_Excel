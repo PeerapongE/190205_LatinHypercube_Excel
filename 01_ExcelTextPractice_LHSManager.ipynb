{
 "cells": [
  {
   "cell_type": "markdown",
   "metadata": {},
   "source": [
    "# Automate Routine Task\n",
    "## Text File Automation: Practical Usage with Excel to Text\n",
    "\n",
    "<img src = \"pic_data/Dextract.png\" width = \"500\" align=\"center\">\n",
    "\n",
    "<img src = \"pic_data/elephant_logo.jpg\" width = \"300\">\n",
    "\n",
    "https://www.facebook.com/elephant.data.th/"
   ]
  },
  {
   "cell_type": "code",
   "execution_count": null,
   "metadata": {},
   "outputs": [],
   "source": [
    "import pyDOE"
   ]
  },
  {
   "cell_type": "markdown",
   "metadata": {},
   "source": [
    "### Import"
   ]
  },
  {
   "cell_type": "code",
   "execution_count": null,
   "metadata": {},
   "outputs": [],
   "source": [
    "import numpy as np # array management\n",
    "import openpyxl # excel communication\n",
    "\n",
    "import pyDOE #Design Of Experiment Library\n",
    "\n",
    "import pathlib # to get suffix of the file"
   ]
  },
  {
   "cell_type": "markdown",
   "metadata": {},
   "source": [
    "###  Section#1 Prepare data\n",
    "\n",
    "#### Input\n",
    "- Load data from Excel file \"INPUT_LHS_MANAGER.xlsx\"\n",
    "- Collect variable and collect in Python\n",
    "\n",
    "#### Output\n",
    "- Data Loaded in python\n",
    "- Range of varible and thier type\n",
    "- Latin Hypercube variable\n",
    "- Template file name"
   ]
  },
  {
   "cell_type": "code",
   "execution_count": null,
   "metadata": {},
   "outputs": [],
   "source": [
    "print('LHSMNG: Latin Hypercube Manager: EXCEL to text file')\n",
    "print('LHSMNG: Developped by Peerapong E. et.al., pls contact peeraponge@gmail.com' )\n",
    "\n",
    "\"\"\"\n",
    "------------------------------------------------------------------------------\n",
    "Section#1 Prepare data\n",
    "------------------------------------------------------------------------------\n",
    "\"\"\"\n",
    "\n",
    "print('LHSMNG: Step-1 Reading data from EXCEL')\n",
    "\n",
    "excelfilename = 'INPUT_LHS_MANAGER.xlsx'\n",
    "excelsheetname = 'Input'\n",
    "\n",
    "excelbookin = openpyxl.load_workbook(filename=excelfilename, data_only = True)\n",
    "excelsheet  = excelbookin[excelsheetname]\n",
    "\n",
    "CRIT = 'maximin' # 'maximin', 'center', 'centermaximin', 'correlation'\n",
    "\n",
    "SFILE     = []\n",
    "VARID     = []\n",
    "SFILEID   = []\n",
    "KEYWORD   = []\n",
    "DTYPE     = []\n",
    "DLOW      = []\n",
    "DHIGH     = []\n",
    "\n",
    "NVAR      = excelsheet.max_row - 11\n",
    "NSAM      = excelsheet.cell(row = 2, column = 2).value\n",
    "ITLHS     = excelsheet.cell(row = 3, column = 2).value\n",
    "NSFILE    = excelsheet.cell(row = 4, column = 2).value\n",
    "\n",
    "# Load file name\n",
    "for i in range(5, 5 + NSFILE): \n",
    "    SFILE.append(excelsheet.cell(row = i, column = 2).value) ;\n",
    "\n",
    "\n",
    "# Load varialbe\n",
    "for i in range(12, excelsheet.max_row + 1):\n",
    "    VARID.append(excelsheet.cell(row = i, column = 1).value)\n",
    "    SFILEID.append(excelsheet.cell(row = i, column = 3).value)\n",
    "    KEYWORD.append(excelsheet.cell(row = i, column = 4).value)\n",
    "    DTYPE.append(excelsheet.cell(row = i, column = 5).value)\n",
    "    DLOW.append(excelsheet.cell(row = i, column = 6).value)\n",
    "    DHIGH.append(excelsheet.cell(row = i, column = 7).value)\n",
    "\n",
    "\n",
    "\n",
    "#Convert to np array\n",
    "VARID_np     = np.array(VARID) \n",
    "SFILEID_np   = np.array(SFILEID)\n",
    "KEYWORD_np   = np.array(KEYWORD)\n",
    "DTYPE_np     = np.array(DTYPE)\n",
    "DLOW_np      = np.array(DLOW)\n",
    "DHIGH_np     = np.array(DHIGH)\n",
    "\n",
    "\n",
    "print('LHSMNG: Step-1 Completed')"
   ]
  },
  {
   "cell_type": "markdown",
   "metadata": {},
   "source": [
    "#### Let's explore the result for step-1"
   ]
  },
  {
   "cell_type": "code",
   "execution_count": null,
   "metadata": {},
   "outputs": [],
   "source": [
    "# List to containt file name\n",
    "SFILE"
   ]
  },
  {
   "cell_type": "code",
   "execution_count": null,
   "metadata": {},
   "outputs": [],
   "source": [
    "# Number of sample\n",
    "NSAM "
   ]
  },
  {
   "cell_type": "code",
   "execution_count": null,
   "metadata": {},
   "outputs": [],
   "source": [
    "# Number of variable\n",
    "NVAR "
   ]
  },
  {
   "cell_type": "code",
   "execution_count": null,
   "metadata": {},
   "outputs": [],
   "source": [
    "# Number of iteration in latin-hypercube sampling\n",
    "ITLHS"
   ]
  },
  {
   "cell_type": "code",
   "execution_count": null,
   "metadata": {},
   "outputs": [],
   "source": [
    "VARID_np"
   ]
  },
  {
   "cell_type": "code",
   "execution_count": null,
   "metadata": {},
   "outputs": [],
   "source": [
    "SFILEID_np"
   ]
  },
  {
   "cell_type": "code",
   "execution_count": null,
   "metadata": {},
   "outputs": [],
   "source": [
    "KEYWORD_np"
   ]
  },
  {
   "cell_type": "code",
   "execution_count": null,
   "metadata": {},
   "outputs": [],
   "source": [
    "DTYPE_np"
   ]
  },
  {
   "cell_type": "code",
   "execution_count": null,
   "metadata": {},
   "outputs": [],
   "source": [
    "# make type as float for further cal\n",
    "DLOW_np = DLOW_np.astype(float)\n",
    "DLOW_np"
   ]
  },
  {
   "cell_type": "code",
   "execution_count": null,
   "metadata": {},
   "outputs": [],
   "source": [
    "DHIGH_np = DHIGH_np.astype(float)\n",
    "DHIGH_np"
   ]
  },
  {
   "cell_type": "markdown",
   "metadata": {},
   "source": [
    "## Section#2 Calculate LHS samples\n",
    "\n",
    "#### Input are\n",
    "\n",
    "- Data type - int, float (DTYPE_np)\n",
    "- Upper bound (DHIGH_np)\n",
    "- Lower bound (DLOW_np)\n",
    "- Number of sample (NSAM)\n",
    "- Number of variable (NVAR)\n",
    "\n",
    "#### Output are\n",
    "- Sample space array with size (NSAM * NVAR)"
   ]
  },
  {
   "cell_type": "code",
   "execution_count": null,
   "metadata": {},
   "outputs": [],
   "source": [
    "\n",
    "\"\"\"\n",
    "------------------------------------------------------------------------------\n",
    "Section#2 Calculate LHS samples\n",
    "------------------------------------------------------------------------------\n",
    "\"\"\"\n",
    "print('LHSMNG: Step-2 LHS Sampling and adjusting range')\n",
    "\n",
    "X_LHS = pyDOE.lhs(NVAR, samples=NSAM,criterion=CRIT,iterations=ITLHS) # Generate LHS sample (0,1)\n",
    "\n",
    "\n",
    "\n",
    "\n",
    "\n",
    "# modify int format data\n",
    "DHIGH_np[DTYPE_np == 'int'] = DHIGH_np[DTYPE_np == 'int'] + 0.5\n",
    "DLOW_np[DTYPE_np == 'int']  = DLOW_np[DTYPE_np == 'int']  - 0.5\n",
    "\n",
    "# calculate range\n",
    "DRANGE_np = DHIGH_np - DLOW_np\n",
    "\n",
    "\n",
    "# prepare x data\n",
    "DRANGE_TEMP_np  = np.repeat([DRANGE_np],NSAM,axis = 0)\n",
    "DLOW_TEMP_np    = np.repeat([DLOW_np],NSAM,axis = 0)\n",
    "\n",
    "X = DLOW_TEMP_np + (X_LHS * DRANGE_TEMP_np) # Calculate actual value\n",
    "\n",
    "X[:,(DTYPE_np == 'int')] = np.round(X[:,(DTYPE_np == 'int')]).astype(int) # Modify for int variable\n",
    "\n",
    "print('LHSMNG: Step-2 Complete')"
   ]
  },
  {
   "cell_type": "markdown",
   "metadata": {},
   "source": [
    "#### Let's explore the result for step-2"
   ]
  },
  {
   "cell_type": "code",
   "execution_count": null,
   "metadata": {},
   "outputs": [],
   "source": [
    "# Size is (Number of Sample, Number of attribute to change)\n",
    "X.shape\n"
   ]
  },
  {
   "cell_type": "code",
   "execution_count": null,
   "metadata": {},
   "outputs": [],
   "source": [
    "X"
   ]
  },
  {
   "cell_type": "code",
   "execution_count": null,
   "metadata": {},
   "outputs": [],
   "source": [
    "# X แต่ละ ค่า คือ แต่ละ sample\n",
    "X[0,:]"
   ]
  },
  {
   "cell_type": "code",
   "execution_count": null,
   "metadata": {},
   "outputs": [],
   "source": [
    "# X แต่ละ ค่า คือ แต่ละ sample\n",
    "X[1,:]"
   ]
  },
  {
   "cell_type": "markdown",
   "metadata": {},
   "source": [
    "## Section#3 Assign \"X\" Modified LHS_Sample to text file\n",
    "\n",
    "#### Input are\n",
    "\n",
    "- X which is array containing experiment sample from Latin Hypercube\n",
    "- template-1, template-2, ...., template-N : containing keyword to be modified\n",
    "\n",
    "#### Output are\n",
    "- Written template to replace variable inside"
   ]
  },
  {
   "cell_type": "code",
   "execution_count": null,
   "metadata": {},
   "outputs": [],
   "source": [
    "\"\"\"\n",
    "------------------------------------------------------------------------------\n",
    "Section#3 Assign \"X\" Modified LHS_Sample to text file\n",
    "------------------------------------------------------------------------------\n",
    "\"\"\"\n",
    "print('LHSMNG: Step-3 Modifying template file')\n",
    "\n",
    "\n",
    "for i in range(0,NSFILE):\n",
    "    #print(i)\n",
    "    print('LHSMNG: Reading Source file : ', str(i+1),' from source : ', SFILE[i])\n",
    "    FILE = open(SFILE[i], 'r') \n",
    "    READ = FILE.read()\n",
    "    FILE.close()\n",
    "    \n",
    "    SUFFIX = pathlib.Path(SFILE[i]).suffix # suffix of the file\n",
    "    \n",
    "\n",
    "    \n",
    "    KEYWORD_REP_np = KEYWORD_np[SFILEID_np == (i+1)]\n",
    "    VARID_REP_np   = VARID_np[SFILEID_np == (i+1)] - 1\n",
    "\n",
    "    for k in range(0,NSAM):\n",
    "        WRITE = READ\n",
    "        for j in range(0,len(VARID_REP_np)): # for each keyword\n",
    "\n",
    "            WRITE = WRITE.replace(KEYWORD_REP_np[j],str(X[k,VARID_REP_np[j]])) # จริงๆ หลักๆ คือ line นี้ที่ทำการ replace ค่าครับ\n",
    "\n",
    "        WNAME = 'OUTPUT_SOURCE-'+str(i+1)+ '_SAMPLE-' + str(k+1) + SUFFIX\n",
    "        FILE = open(WNAME,'w')\n",
    "        FILE.write(WRITE)\n",
    "        FILE.close()\n",
    "\n",
    "\n",
    "print('LHSMNG: Step-3 Complete')"
   ]
  },
  {
   "cell_type": "code",
   "execution_count": null,
   "metadata": {},
   "outputs": [],
   "source": []
  }
 ],
 "metadata": {
  "kernelspec": {
   "display_name": "Python 3",
   "language": "python",
   "name": "python3"
  },
  "language_info": {
   "codemirror_mode": {
    "name": "ipython",
    "version": 3
   },
   "file_extension": ".py",
   "mimetype": "text/x-python",
   "name": "python",
   "nbconvert_exporter": "python",
   "pygments_lexer": "ipython3",
   "version": "3.7.0"
  }
 },
 "nbformat": 4,
 "nbformat_minor": 2
}
